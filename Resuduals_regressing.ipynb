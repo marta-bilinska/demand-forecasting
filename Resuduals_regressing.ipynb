{
 "cells": [
  {
   "cell_type": "code",
   "execution_count": 1,
   "id": "5d56a054",
   "metadata": {},
   "outputs": [],
   "source": [
    "import pandas as pd\n",
    "from matplotlib import pyplot as plt\n",
    "import numpy as np\n",
    "from scipy.stats import norm\n",
    "import seaborn as sns\n",
    "from statsmodels.graphics.tsaplots import plot_acf\n",
    "from statsmodels.graphics.tsaplots import plot_pacf\n",
    "from statsmodels.tsa.seasonal import seasonal_decompose\n",
    "from scipy.optimize import curve_fit\n",
    "from sklearn.model_selection import GridSearchCV, TimeSeriesSplit\n",
    "from sklearn.tree import DecisionTreeRegressor\n",
    "from sklearn.ensemble import RandomForestRegressor, ExtraTreesRegressor, GradientBoostingRegressor\n",
    "from sklearn.linear_model import Ridge, Lasso, ElasticNet, LinearRegression\n",
    "from sklearn.metrics import mean_squared_error, r2_score\n",
    "from sklearn.decomposition import PCA\n",
    "from sklearn.model_selection import train_test_split\n",
    "from matplotlib import pyplot as plt\n",
    "import matplotlib.pyplot as plt;\n",
    "from statsmodels.tsa.statespace.sarimax import SARIMAX\n",
    "from sklearn.metrics import mean_squared_error as mse\n",
    "import itertools\n",
    "plt.rcdefaults()"
   ]
  },
  {
   "cell_type": "code",
   "execution_count": 1,
   "id": "14fa4e31",
   "metadata": {},
   "outputs": [],
   "source": [
    "s1 = set((0,1, 2, 3, 6, 12))\n",
    "triples = list(itertools.product(s1,s1,s1))\n",
    "\n",
    "def predict_arima(X, months=24, colname=\"y\"):\n",
    "    preds_ = []\n",
    "    mse_ = np.inf\n",
    "    for i in triples:\n",
    "        print(\"i=\", i)\n",
    "        try:\n",
    "            sar = SARIMAX(X, order=i).fit()\n",
    "            preds = sar.predict(start = 0, end= len(X) -1 + months, dynamic=False)\n",
    "            c = n + \"_\" + str(colname) + \",SARIMAX(\"+str(i)+f\"), residuals({model_type},{period})\"\n",
    "            print(\"len_preds\", len(preds.fillna(0)))\n",
    "            print(\"len_df\", len(differenced_residuals_df_preds))\n",
    "            differenced_residuals_df_preds[c] = preds.fillna(0)\n",
    "        except Exception as er:\n",
    "            print(\"error\", er)\n",
    "            continue\n",
    "    return preds_\n",
    "\n",
    "\n",
    "for col in differenced_residuals_df.columns:\n",
    "    predict_arima(differenced_residuals_df[col], 24, col)\n",
    "    \n",
    "    "
   ]
  },
  {
   "cell_type": "code",
   "execution_count": 2,
   "id": "68b7fea8",
   "metadata": {},
   "outputs": [],
   "source": [
    "from sklearn.pipeline import Pipeline\n",
    "from sklearn.preprocessing import StandardScaler\n",
    "from sklearn.linear_model import Lasso, LinearRegression, Ridge, PoissonRegressor\n",
    "from sklearn.ensemble import RandomForestRegressor, GradientBoostingRegressor\n",
    "from sklearn.svm import SVR\n",
    "models = {\n",
    "    \"DecisionTreeRegressor\": {\"model\": DecisionTreeRegressor, \"params\":{\n",
    "        \"max_depth\":[1,2]\n",
    "                              }},\n",
    "    \"Penelized\": {\"alpha\": [1, 0.1, 0.01, 0.001, 0.0001, 0.00001, 0.000001]},\n",
    "    \"LinearRegression\":{\"model\":Pipeline([(\"scl\", StandardScaler()), (\"reg\", LinearRegression())]), \"params\":{\n",
    "    }},\n",
    "    \"PoissonRegression\":{\"model\":Pipeline([(\"scl\", StandardScaler()), (\"reg\", PoissonRegressor())]), \n",
    "                         \"params\":{\"reg__alpha\": [0.01, 0.1, 1, 10]}},\n",
    "    \"PoissonRegression\":{\"model\":Pipeline([(\"scl\", StandardScaler()), (\"reg\", Ridge(random_state=42))]), \n",
    "                         \"params\":{\"reg__alpha\": [0.01, 0.1, 1, 10]}},\n",
    "    \"SVR\":{\"model\":Pipeline([(\"scl\", StandardScaler()), (\"reg\", SVR())]), \n",
    "                        \"params\":{\"reg__C\": [0.01, 0.1, 1, 10],\n",
    "                            \"reg__kernel\": [\"rbf\", \"linear\"]}},\n",
    "}"
   ]
  },
  {
   "cell_type": "code",
   "execution_count": 3,
   "id": "4065a925",
   "metadata": {},
   "outputs": [],
   "source": [
    "def tune_model_parameters(model, parameters_dict, X_set, y_set, verbose=False):\n",
    "  cv = TimeSeriesSplit(n_splits=2, test_size=int(len(y_set)*0.15))\n",
    "  clf = GridSearchCV(model, parameters_dict, scoring='neg_root_mean_squared_error', cv=cv, verbose=verbose)\n",
    "  clf.fit(X_set, y_set)\n",
    "  if verbose:\n",
    "    print(\"Current best model: \", clf.best_estimator_)\n",
    "    print(\"Current best model: \", clf.best_score_)\n",
    "  return clf.best_estimator_, clf.best_score_"
   ]
  },
  {
   "cell_type": "code",
   "execution_count": 4,
   "id": "f14419fc",
   "metadata": {},
   "outputs": [],
   "source": [
    "import warnings\n",
    "warnings.filterwarnings('ignore')"
   ]
  },
  {
   "cell_type": "code",
   "execution_count": 47,
   "id": "b45970f7",
   "metadata": {},
   "outputs": [],
   "source": [
    "n=\"df_uah1\"\n",
    "n1=\"uah1\"\n",
    "model_type = \"multiplicative\"\n",
    "period = 12\n",
    "\n",
    "t1_residuals = pd.read_csv(f\"/Users/Marta/Desktop/diploma/best/{model_type}_{period}_{n1}/best_{n}_{model_type}_{period}_decomposed_RESIDUALS_predicted_T1.csv\")\n",
    "t2_residuals = pd.read_csv(f\"/Users/Marta/Desktop/diploma/best/{model_type}_{period}_{n1}/best_{n}_{model_type}_{period}_decomposed_RESIDUALS_predicted_T2.csv\")\n",
    "total1_residuals = pd.read_csv(f\"/Users/Marta/Desktop/diploma/best/{model_type}_{period}_{n1}/best_{n}_{model_type}_{period}_decomposed_RESIDUALS_predicted_Total1.csv\")\n",
    "\n",
    "\n",
    "t1s = [col for col in t1_residuals.columns if \"T1\" in col and len(col)>8 and \"FB\" not in col]\n",
    "t2s = [col for col in t2_residuals.columns if \"T2\" in col and len(col)>8 and \"FB\" not in col]\n",
    "total1s = [col for col in total1_residuals.columns if \"Total 1\" in col and len(col)>8 and \"FB\" not in col]\n"
   ]
  },
  {
   "cell_type": "code",
   "execution_count": 49,
   "id": "c72f7a68",
   "metadata": {},
   "outputs": [],
   "source": [
    "all_residuals = pd.concat([t1_residuals, t2_residuals, total1_residuals], axis=1)\n",
    "t1s_regressed = pd.DataFrame()\n",
    "t2s_regressed = pd.DataFrame()\n",
    "total1s_regressed = pd.DataFrame()"
   ]
  },
  {
   "cell_type": "code",
   "execution_count": 50,
   "id": "7e3d3764",
   "metadata": {},
   "outputs": [],
   "source": [
    "s1 = set((0,1, 2, 3, 6, 12))\n",
    "triples = list(itertools.product(s1,s1,s1))\n",
    "\n",
    "for triple in triples:\n",
    "    for col1 in t1s:\n",
    "        for col2 in t2s:\n",
    "            for col3 in total1s:\n",
    "                if str(triple) not in col1 or str(triple) not in col2 or str(triple) not in col3:\n",
    "                    continue\n",
    "                print(col1, col2, col3)\n",
    "                X = all_residuals[[col1, col2, col3]]\n",
    "                Xs = [all_residuals[[col1, col2]], all_residuals[[col1, col3]], all_residuals[[col3, col2]]]\n",
    "                ys = [all_residuals[col3], all_residuals[col2], all_residuals[col1]]\n",
    "                preds_dfs = [total1s_regressed, t2s_regressed, t1s_regressed]\n",
    "\n",
    "                for i in range(0, 3):\n",
    "                    best_est = None\n",
    "                    best_score = -np.inf\n",
    "                    print(Xs[i])\n",
    "                    for model in models:\n",
    "                        print(model)\n",
    "                        try:\n",
    "                            est, score = tune_model_parameters(models[model][\"model\"](), models[model][\"params\"], Xs[i], ys[i], False)\n",
    "                        except TypeError:\n",
    "                            est, score = tune_model_parameters(models[model][\"model\"], models[model][\"params\"], Xs[i], ys[i], False)\n",
    "\n",
    "                        prediction = est.predict(Xs[i])\n",
    "                        c = \"SARIMAX(\"+str(triple)+str(model)+\", regressed\"\n",
    "                        preds_dfs[i][c] = prediction\n",
    "                        plt.plot(ys[i], color=\"black\")\n",
    "                        plt.plot(Xs[i].index, prediction, color=\"blue\")\n",
    "                        if best_score < score:\n",
    "                            best_est = est\n",
    "                            best_score = score\n"
   ]
  }
 ],
 "metadata": {
  "kernelspec": {
   "display_name": "Python 3",
   "language": "python",
   "name": "python3"
  },
  "language_info": {
   "codemirror_mode": {
    "name": "ipython",
    "version": 3
   },
   "file_extension": ".py",
   "mimetype": "text/x-python",
   "name": "python",
   "nbconvert_exporter": "python",
   "pygments_lexer": "ipython3",
   "version": "3.8.8"
  }
 },
 "nbformat": 4,
 "nbformat_minor": 5
}
